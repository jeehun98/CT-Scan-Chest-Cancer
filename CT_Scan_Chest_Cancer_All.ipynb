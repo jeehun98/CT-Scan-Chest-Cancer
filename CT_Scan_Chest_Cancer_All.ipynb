{
  "nbformat": 4,
  "nbformat_minor": 0,
  "metadata": {
    "colab": {
      "provenance": [],
      "collapsed_sections": []
    },
    "kernelspec": {
      "name": "python3",
      "display_name": "Python 3"
    },
    "language_info": {
      "name": "python"
    },
    "accelerator": "GPU"
  },
  "cells": [
    {
      "cell_type": "code",
      "execution_count": 1,
      "metadata": {
        "colab": {
          "base_uri": "https://localhost:8080/"
        },
        "id": "YsS6kgzZP9Zf",
        "outputId": "c9365f59-7e09-4e43-92a4-6f2e4538dc52"
      },
      "outputs": [
        {
          "output_type": "stream",
          "name": "stdout",
          "text": [
            "Mounted at /content/drive\n"
          ]
        }
      ],
      "source": [
        "from google.colab import drive\n",
        "drive.mount('/content/drive')"
      ]
    },
    {
      "cell_type": "code",
      "source": [
        "import pandas as pd\n",
        "import os\n",
        "import cv2"
      ],
      "metadata": {
        "id": "bl-0bFqUQJuY"
      },
      "execution_count": 2,
      "outputs": []
    },
    {
      "cell_type": "code",
      "source": [
        "import tensorflow as tf\n",
        "import torch\n",
        "import numpy as np"
      ],
      "metadata": {
        "id": "b8-WNGyCdOKh"
      },
      "execution_count": 3,
      "outputs": []
    },
    {
      "cell_type": "code",
      "source": [
        "adenocarcinoma_test_file_path = '/content/drive/MyDrive/Data/test/adenocarcinoma'\n",
        "adenocarcinoma_train_file_path = '/content/drive/MyDrive/Data/train/adenocarcinoma_left.lower.lobe_T2_N0_M0_Ib'\n",
        "adenocarcinoma_valid_file_path = '/content/drive/MyDrive/Data/valid/adenocarcinoma_left.lower.lobe_T2_N0_M0_Ib'\n",
        "\n",
        "largecell_test_file_path = '/content/drive/MyDrive/Data/test/large.cell.carcinoma'\n",
        "largecell_train_file_path = '/content/drive/MyDrive/Data/train/large.cell.carcinoma_left.hilum_T2_N2_M0_IIIa'\n",
        "largecell_valid_file_path = '/content/drive/MyDrive/Data/valid/large.cell.carcinoma_left.hilum_T2_N2_M0_IIIa'\n",
        "\n",
        "normal_test_file_path = '/content/drive/MyDrive/Data/test/normal'\n",
        "normal_train_file_path = '/content/drive/MyDrive/Data/train/normal'\n",
        "normal_valid_file_path = '/content/drive/MyDrive/Data/valid/normal'\n",
        "\n",
        "squamous_test_file_path = '/content/drive/MyDrive/Data/test/squamous.cell.carcinoma'\n",
        "squamous_train_file_path = '/content/drive/MyDrive/Data/train/squamous.cell.carcinoma_left.hilum_T1_N2_M0_IIIa'\n",
        "squamous_valid_file_path = '/content/drive/MyDrive/Data/valid/squamous.cell.carcinoma_left.hilum_T1_N2_M0_IIIa'"
      ],
      "metadata": {
        "id": "TBdvOz57QLk7"
      },
      "execution_count": 4,
      "outputs": []
    },
    {
      "cell_type": "code",
      "source": [
        "def image_return(file_path):\n",
        "  \"\"\"\n",
        "  이미지 파일들의 경로를 받아 파일 내 이미지 리스트 반환\n",
        "\n",
        "  Args:\n",
        "    file_path: 이미지 파일들의 경로\n",
        "\n",
        "  Returns:\n",
        "    이미지 리스트\n",
        "  \"\"\"\n",
        "  image_list = os.listdir(file_path)\n",
        "  image_path_list = []\n",
        "  for i in image_list:\n",
        "    image_path_list.append(file_path + '/' + i)\n",
        "  \n",
        "  image_list = []\n",
        "  for i in image_path_list:\n",
        "    image_list.append(cv2.imread(i, cv2.IMREAD_COLOR))\n",
        "  \n",
        "  return image_list"
      ],
      "metadata": {
        "id": "IU-Ody2wQn1r"
      },
      "execution_count": 6,
      "outputs": []
    },
    {
      "cell_type": "code",
      "source": [
        "def height_width_find(image_list):\n",
        "  \"\"\"\n",
        "  이미지 리스트 내 가장 큰 너비, 높이 값 탐색\n",
        "\n",
        "  Args:\n",
        "    image_list: 이미지 리스트\n",
        "\n",
        "  Returns:\n",
        "    최대 높이, 너비\n",
        "  \"\"\"\n",
        "  height = int(image_list[0].shape[0])\n",
        "  width = int(image_list[0].shape[1])\n",
        "\n",
        "  for i in image_list:\n",
        "    image_height = int(i.shape[0])\n",
        "    image_width = int(i.shape[1])\n",
        "    if height < image_height:\n",
        "      height = image_height\n",
        "    if width < image_width:\n",
        "      width = image_width\n",
        "\n",
        "  return height, width"
      ],
      "metadata": {
        "id": "rGbHLgI6ZJgQ"
      },
      "execution_count": 7,
      "outputs": []
    },
    {
      "cell_type": "code",
      "source": [
        "def image_transpose(height, width, image_list):\n",
        "  \"\"\"\n",
        "  이미지 크기 변환\n",
        "\n",
        "  Args:\n",
        "    height, width : 변환할 이미지의 높이, 너비\n",
        "    image_list : 변환할 이미지 리스트\n",
        "\n",
        "  Returns:\n",
        "    변환된 이미지 리스트\n",
        "  \"\"\"\n",
        "  image_data = []\n",
        "\n",
        "  for i in image_list:\n",
        "    image_data.append(tf.image.resize_with_crop_or_pad(i,height, width))\n",
        "\n",
        "  return image_data"
      ],
      "metadata": {
        "id": "ZRqYTFvac-3x"
      },
      "execution_count": 8,
      "outputs": []
    },
    {
      "cell_type": "code",
      "source": [
        "def target_data_make(target_data, normal_data):\n",
        "  \"\"\"\n",
        "  타겟 리스트 생성\n",
        "\n",
        "  Args:\n",
        "    target_data : 분류할 데이터\n",
        "    normal_data : 일반 데이터\n",
        "\n",
        "  Return:\n",
        "    라벨 데이터\n",
        "  \"\"\"\n",
        "  return np.concatenate((np.ones(len(target_data)),np.zeros(len(normal_data))))"
      ],
      "metadata": {
        "id": "XAHXS4ckVZ4e"
      },
      "execution_count": 9,
      "outputs": []
    },
    {
      "cell_type": "markdown",
      "source": [
        "정상 클래스와 비교하기 위한 리스트 결합"
      ],
      "metadata": {
        "id": "ekJMrZFya1Cc"
      }
    },
    {
      "cell_type": "code",
      "source": [
        "adenocarcinoma_image_list = image_return(adenocarcinoma_test_file_path) + image_return(adenocarcinoma_train_file_path) + image_return(adenocarcinoma_valid_file_path)"
      ],
      "metadata": {
        "id": "plr4vXCJa0VH"
      },
      "execution_count": 10,
      "outputs": []
    },
    {
      "cell_type": "code",
      "source": [
        "normal_image_list = image_return(normal_test_file_path) + image_return(normal_train_file_path) + image_return(normal_valid_file_path)"
      ],
      "metadata": {
        "id": "FWsuBockbwF5"
      },
      "execution_count": 11,
      "outputs": []
    },
    {
      "cell_type": "code",
      "source": [
        "print(len(adenocarcinoma_image_list), len(normal_image_list))"
      ],
      "metadata": {
        "colab": {
          "base_uri": "https://localhost:8080/"
        },
        "id": "kqEoev-wb539",
        "outputId": "4ae0dcb2-32c7-47ea-958f-0c6d129672e9"
      },
      "execution_count": 12,
      "outputs": [
        {
          "output_type": "stream",
          "name": "stdout",
          "text": [
            "338 215\n"
          ]
        }
      ]
    },
    {
      "cell_type": "markdown",
      "source": [
        "이미지 크기 변환을 위한 너비 높이 측정"
      ],
      "metadata": {
        "id": "zLpTP9jacXea"
      }
    },
    {
      "cell_type": "code",
      "source": [
        "image_list = adenocarcinoma_image_list + normal_image_list\n",
        "\n",
        "height, width = height_width_find(image_list)\n",
        "print(height, width)"
      ],
      "metadata": {
        "colab": {
          "base_uri": "https://localhost:8080/"
        },
        "id": "yrfhs0qJcP02",
        "outputId": "6494520b-9cdc-4454-a472-6914a11f44f0"
      },
      "execution_count": 13,
      "outputs": [
        {
          "output_type": "stream",
          "name": "stdout",
          "text": [
            "874 1200\n"
          ]
        }
      ]
    },
    {
      "cell_type": "markdown",
      "source": [
        "이미지 변환"
      ],
      "metadata": {
        "id": "8m0YNboyeqoh"
      }
    },
    {
      "cell_type": "code",
      "source": [
        "adenocarcinoma_image_list = image_transpose(height, width, adenocarcinoma_image_list)\n",
        "normal_image_list = image_transpose(height, width, normal_image_list)"
      ],
      "metadata": {
        "id": "STGYnzJfc15U"
      },
      "execution_count": 14,
      "outputs": []
    },
    {
      "cell_type": "markdown",
      "source": [
        "타겟 데이터 생성"
      ],
      "metadata": {
        "id": "LHDJKqKMfOKy"
      }
    },
    {
      "cell_type": "code",
      "source": [
        "input_data = adenocarcinoma_image_list + normal_image_list\n",
        "target_data = target_data_make(adenocarcinoma_image_list, normal_image_list)"
      ],
      "metadata": {
        "id": "7yh98uWUfOeU"
      },
      "execution_count": 15,
      "outputs": []
    },
    {
      "cell_type": "markdown",
      "source": [
        "훈련, 테스트 세트 분할"
      ],
      "metadata": {
        "id": "GbFi6ZRRe1DK"
      }
    },
    {
      "cell_type": "code",
      "source": [
        "from tensorflow import keras\n",
        "from sklearn.model_selection import train_test_split\n",
        "\n",
        "train_input, test_input, train_target, test_target = train_test_split(input_data, target_data, stratify=target_data)"
      ],
      "metadata": {
        "id": "-_0OLaFMezVf"
      },
      "execution_count": 16,
      "outputs": []
    },
    {
      "cell_type": "markdown",
      "source": [
        "데이터 정규화"
      ],
      "metadata": {
        "id": "g6Stp_yzlcPO"
      }
    },
    {
      "cell_type": "code",
      "source": [
        "train_scaled = np.array(train_input).reshape(-1, height, width, 3)\n",
        "test_scaled = np.array(test_input).reshape(-1, height, width, 3)"
      ],
      "metadata": {
        "id": "WBEGgHy1d1zj"
      },
      "execution_count": 17,
      "outputs": []
    },
    {
      "cell_type": "markdown",
      "source": [
        "모델 생성"
      ],
      "metadata": {
        "id": "8JvjHdoXnIzv"
      }
    },
    {
      "cell_type": "code",
      "source": [
        "model2 = keras.Sequential()\n",
        "model2.add(keras.layers.Conv2D(8, kernel_size=3, activation='relu', padding='same', input_shape = (height, width,3)))\n",
        "model2.add(keras.layers.MaxPooling2D(2))\n",
        "model2.add(keras.layers.Conv2D(16, kernel_size=3, activation='relu', padding='same'))\n",
        "model2.add(keras.layers.MaxPooling2D(2))\n",
        "model2.add(keras.layers.Flatten())\n",
        "model2.add(keras.layers.Dense(20, activation='relu'))\n",
        "model2.add(keras.layers.Dropout(0.4))\n",
        "model2.add(keras.layers.Dense(1))"
      ],
      "metadata": {
        "id": "xo2QUh8bl_P_"
      },
      "execution_count": 18,
      "outputs": []
    },
    {
      "cell_type": "code",
      "source": [
        "model2.summary()"
      ],
      "metadata": {
        "colab": {
          "base_uri": "https://localhost:8080/"
        },
        "id": "9aoCuGKPnMda",
        "outputId": "067413df-2fec-4489-cef5-4db950bd7ac8"
      },
      "execution_count": 19,
      "outputs": [
        {
          "output_type": "stream",
          "name": "stdout",
          "text": [
            "Model: \"sequential\"\n",
            "_________________________________________________________________\n",
            " Layer (type)                Output Shape              Param #   \n",
            "=================================================================\n",
            " conv2d (Conv2D)             (None, 874, 1200, 8)      224       \n",
            "                                                                 \n",
            " max_pooling2d (MaxPooling2D  (None, 437, 600, 8)      0         \n",
            " )                                                               \n",
            "                                                                 \n",
            " conv2d_1 (Conv2D)           (None, 437, 600, 16)      1168      \n",
            "                                                                 \n",
            " max_pooling2d_1 (MaxPooling  (None, 218, 300, 16)     0         \n",
            " 2D)                                                             \n",
            "                                                                 \n",
            " flatten (Flatten)           (None, 1046400)           0         \n",
            "                                                                 \n",
            " dense (Dense)               (None, 20)                20928020  \n",
            "                                                                 \n",
            " dropout (Dropout)           (None, 20)                0         \n",
            "                                                                 \n",
            " dense_1 (Dense)             (None, 1)                 21        \n",
            "                                                                 \n",
            "=================================================================\n",
            "Total params: 20,929,433\n",
            "Trainable params: 20,929,433\n",
            "Non-trainable params: 0\n",
            "_________________________________________________________________\n"
          ]
        }
      ]
    },
    {
      "cell_type": "code",
      "source": [
        "model2.compile(optimizer='adam', loss='categorical_crossentropy', metrics='accuracy')"
      ],
      "metadata": {
        "id": "HwBleNBTnNpq"
      },
      "execution_count": 20,
      "outputs": []
    },
    {
      "cell_type": "code",
      "source": [
        "history = model2.fit(train_scaled, train_target, epochs=10)"
      ],
      "metadata": {
        "colab": {
          "base_uri": "https://localhost:8080/"
        },
        "id": "ZhHqJDfonR4M",
        "outputId": "536e82a9-6428-4eaa-c36d-898aefb54984"
      },
      "execution_count": 21,
      "outputs": [
        {
          "output_type": "stream",
          "name": "stdout",
          "text": [
            "Epoch 1/10\n",
            "13/13 [==============================] - 16s 442ms/step - loss: 7.2850e-08 - accuracy: 0.6087\n",
            "Epoch 2/10\n",
            "13/13 [==============================] - 4s 270ms/step - loss: nan - accuracy: 0.6087\n",
            "Epoch 3/10\n",
            "13/13 [==============================] - 3s 269ms/step - loss: nan - accuracy: 0.3889\n",
            "Epoch 4/10\n",
            "13/13 [==============================] - 4s 274ms/step - loss: nan - accuracy: 0.3889\n",
            "Epoch 5/10\n",
            "13/13 [==============================] - 4s 273ms/step - loss: nan - accuracy: 0.3889\n",
            "Epoch 6/10\n",
            "13/13 [==============================] - 4s 271ms/step - loss: nan - accuracy: 0.3889\n",
            "Epoch 7/10\n",
            "13/13 [==============================] - 4s 270ms/step - loss: nan - accuracy: 0.3889\n",
            "Epoch 8/10\n",
            "13/13 [==============================] - 4s 270ms/step - loss: nan - accuracy: 0.3889\n",
            "Epoch 9/10\n",
            "13/13 [==============================] - 3s 269ms/step - loss: nan - accuracy: 0.3889\n",
            "Epoch 10/10\n",
            "13/13 [==============================] - 3s 268ms/step - loss: nan - accuracy: 0.3889\n"
          ]
        }
      ]
    },
    {
      "cell_type": "code",
      "source": [
        "model2.evaluate(test_scaled, test_target)"
      ],
      "metadata": {
        "colab": {
          "base_uri": "https://localhost:8080/"
        },
        "id": "kw9tVlgvnTdc",
        "outputId": "04bb4245-0f32-4437-c3a5-148986b5f95e"
      },
      "execution_count": 22,
      "outputs": [
        {
          "output_type": "stream",
          "name": "stdout",
          "text": [
            "5/5 [==============================] - 1s 187ms/step - loss: nan - accuracy: 0.3885\n"
          ]
        },
        {
          "output_type": "execute_result",
          "data": {
            "text/plain": [
              "[nan, 0.3884892165660858]"
            ]
          },
          "metadata": {},
          "execution_count": 22
        }
      ]
    },
    {
      "cell_type": "code",
      "source": [],
      "metadata": {
        "id": "xWmBpIZ6pIe7"
      },
      "execution_count": null,
      "outputs": []
    }
  ]
}