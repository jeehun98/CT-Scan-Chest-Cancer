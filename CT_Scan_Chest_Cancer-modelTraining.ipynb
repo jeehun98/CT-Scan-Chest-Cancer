{
  "nbformat": 4,
  "nbformat_minor": 0,
  "metadata": {
    "colab": {
      "provenance": [],
      "collapsed_sections": []
    },
    "kernelspec": {
      "name": "python3",
      "display_name": "Python 3"
    },
    "language_info": {
      "name": "python"
    },
    "accelerator": "GPU"
  },
  "cells": [
    {
      "cell_type": "code",
      "execution_count": 1,
      "metadata": {
        "id": "vAru97CxMcaV",
        "colab": {
          "base_uri": "https://localhost:8080/"
        },
        "outputId": "46657203-bfbd-4c89-f649-ec84bda323e0"
      },
      "outputs": [
        {
          "output_type": "stream",
          "name": "stdout",
          "text": [
            "Drive already mounted at /content/drive; to attempt to forcibly remount, call drive.mount(\"/content/drive\", force_remount=True).\n"
          ]
        }
      ],
      "source": [
        "from google.colab import drive\n",
        "drive.mount('/content/drive')"
      ]
    },
    {
      "cell_type": "code",
      "source": [
        "import pandas as pd\n",
        "import os\n",
        "import cv2"
      ],
      "metadata": {
        "id": "Y9pRuYUMauJh"
      },
      "execution_count": 2,
      "outputs": []
    },
    {
      "cell_type": "code",
      "source": [
        "import matplotlib.pyplot as plt\n",
        "\n",
        "def plot_color_image(image):\n",
        "    plt.imshow(image, interpolation=\"nearest\")\n",
        "    plt.axis(\"off\")\n",
        "\n",
        "def plot_image(image):\n",
        "    plt.imshow(image, cmap=\"gray\", interpolation=\"nearest\")\n",
        "    plt.axis(\"off\")"
      ],
      "metadata": {
        "id": "9X8WhnZOo2oh"
      },
      "execution_count": 3,
      "outputs": []
    },
    {
      "cell_type": "markdown",
      "source": [
        "이미지 파일 경로, 각 이미지 파일의 이름을 얻기 위한 작업"
      ],
      "metadata": {
        "id": "8-msgpDYyIej"
      }
    },
    {
      "cell_type": "code",
      "source": [
        "adenocarcinoma_test_file_path = '/content/drive/MyDrive/Data/test/adenocarcinoma'\n",
        "adenocarcinoma_train_file_path = '/content/drive/MyDrive/Data/train/adenocarcinoma_left.lower.lobe_T2_N0_M0_Ib'\n",
        "adenocarcinoma_valid_file_path = '/content/drive/MyDrive/Data/valid/adenocarcinoma_left.lower.lobe_T2_N0_M0_Ib'\n",
        "\n",
        "largecell_test_file_path = '/content/drive/MyDrive/Data/test/large.cell.carcinoma'\n",
        "largecell_train_file_path = '/content/drive/MyDrive/Data/train/large.cell.carcinoma_left.hilum_T2_N2_M0_IIIa'\n",
        "largecell_valid_file_path = '/content/drive/MyDrive/Data/valid/large.cell.carcinoma_left.hilum_T2_N2_M0_IIIa'\n",
        "\n",
        "normal_test_file_path = '/content/drive/MyDrive/Data/test/normal'\n",
        "normal_train_file_path = '/content/drive/MyDrive/Data/train/normal'\n",
        "normal_valid_file_path = '/content/drive/MyDrive/Data/valid/normal'\n",
        "\n",
        "squamous_test_file_path = '/content/drive/MyDrive/Data/test/squamous.cell.carcinoma'\n",
        "squamous_train_file_path = '/content/drive/MyDrive/Data/train/squamous.cell.carcinoma_left.hilum_T1_N2_M0_IIIa'\n",
        "squamous_valid_file_path = '/content/drive/MyDrive/Data/valid/squamous.cell.carcinoma_left.hilum_T1_N2_M0_IIIa'"
      ],
      "metadata": {
        "id": "c1unTVb3a60m"
      },
      "execution_count": 4,
      "outputs": []
    },
    {
      "cell_type": "code",
      "source": [
        "adenocarcinoma_test_image_list = os.listdir(adenocarcinoma_test_file_path)\n",
        "adenocarcinoma_train_image_list = os.listdir(adenocarcinoma_train_file_path)\n",
        "adenocarcinoma_valid_image_list = os.listdir(adenocarcinoma_valid_file_path)\n",
        "\n",
        "largecell_test_image_list = os.listdir(largecell_test_file_path)\n",
        "largecell_train_image_list = os.listdir(largecell_train_file_path)\n",
        "largecell_valid_image_list = os.listdir(largecell_valid_file_path)\n",
        "\n",
        "normal_test_image_list = os.listdir(normal_test_file_path)\n",
        "normal_train_image_list = os.listdir(normal_train_file_path)\n",
        "normal_valid_image_list = os.listdir(normal_valid_file_path)\n",
        "\n",
        "squamous_test_image_list = os.listdir(squamous_test_file_path)\n",
        "squamous_train_image_list = os.listdir(squamous_train_file_path)\n",
        "squamous_valid_image_list = os.listdir(squamous_valid_file_path)"
      ],
      "metadata": {
        "id": "DKhkrhqbbHO-"
      },
      "execution_count": 5,
      "outputs": []
    },
    {
      "cell_type": "markdown",
      "source": [
        "각 이미지 파일에 경로 추가 작업"
      ],
      "metadata": {
        "id": "iqfpuhqZ1XbL"
      }
    },
    {
      "cell_type": "code",
      "source": [
        "adenocarcinoma_test_image_path_list = []\n",
        "for i in adenocarcinoma_test_image_list:\n",
        "  adenocarcinoma_test_image_path_list.append(adenocarcinoma_test_file_path + '/' + i)\n"
      ],
      "metadata": {
        "id": "1MRlYxInyP-Z"
      },
      "execution_count": 6,
      "outputs": []
    },
    {
      "cell_type": "markdown",
      "source": [
        "두 작업의 함수화\n"
      ],
      "metadata": {
        "id": "nW74alja4UeS"
      }
    },
    {
      "cell_type": "code",
      "source": [
        "def image_processing(file_path):\n",
        "  image_name_list = os.listdir(file_path)\n",
        "  image_path_list = []\n",
        "  for i in image_name_list:\n",
        "    image_path_list.append(file_path + '/' + i)\n",
        "  \n",
        "  image_list = []\n",
        "  for j in image_path_list:\n",
        "    image_list.append(cv2.imread(j, cv2.IMREAD_COLOR))\n",
        "  \n",
        "  return image_list"
      ],
      "metadata": {
        "id": "CCMa_ji_4TaP"
      },
      "execution_count": 7,
      "outputs": []
    },
    {
      "cell_type": "code",
      "source": [
        "adenocarcinoma_test_image_list = image_processing('/content/drive/MyDrive/Data/test/adenocarcinoma')\n",
        "adenocarcinoma_train_image_list = image_processing('/content/drive/MyDrive/Data/train/adenocarcinoma_left.lower.lobe_T2_N0_M0_Ib')\n",
        "adenocarcinoma_valid_image_list = image_processing('/content/drive/MyDrive/Data/valid/adenocarcinoma_left.lower.lobe_T2_N0_M0_Ib')\n",
        "\n",
        "largecell_test_image_list = image_processing('/content/drive/MyDrive/Data/test/large.cell.carcinoma')\n",
        "largecell_train_image_list = image_processing('/content/drive/MyDrive/Data/train/large.cell.carcinoma_left.hilum_T2_N2_M0_IIIa')\n",
        "largecell_valid_image_list = image_processing('/content/drive/MyDrive/Data/valid/large.cell.carcinoma_left.hilum_T2_N2_M0_IIIa')\n",
        "\n",
        "normal_test_image_list = image_processing('/content/drive/MyDrive/Data/test/normal')\n",
        "normal_train_image_list = image_processing('/content/drive/MyDrive/Data/train/normal')\n",
        "normal_valid_image_list = image_processing('/content/drive/MyDrive/Data/valid/normal')\n",
        "\n",
        "squamous_test_image_list = image_processing('/content/drive/MyDrive/Data/test/squamous.cell.carcinoma')\n",
        "squamous_train_image_list = image_processing('/content/drive/MyDrive/Data/train/squamous.cell.carcinoma_left.hilum_T1_N2_M0_IIIa')\n",
        "squamous_valid_image_list = image_processing('/content/drive/MyDrive/Data/valid/squamous.cell.carcinoma_left.hilum_T1_N2_M0_IIIa')"
      ],
      "metadata": {
        "id": "uEr6lXkl0N5b"
      },
      "execution_count": 8,
      "outputs": []
    },
    {
      "cell_type": "markdown",
      "source": [
        "모든 이미지들을 담고 있는 리스트 생성"
      ],
      "metadata": {
        "id": "HvB5fzujpbx3"
      }
    },
    {
      "cell_type": "code",
      "source": [
        "data = adenocarcinoma_test_image_list + adenocarcinoma_train_image_list + adenocarcinoma_valid_image_list + largecell_test_image_list + largecell_train_image_list + largecell_valid_image_list +  normal_test_image_list + normal_train_image_list + normal_valid_image_list + squamous_test_image_list + squamous_train_image_list + squamous_valid_image_list"
      ],
      "metadata": {
        "id": "c4gXIthPpbC3"
      },
      "execution_count": 9,
      "outputs": []
    },
    {
      "cell_type": "code",
      "source": [
        "len(data)"
      ],
      "metadata": {
        "colab": {
          "base_uri": "https://localhost:8080/"
        },
        "id": "4CFF95Msp2pc",
        "outputId": "b1f69a90-da99-41c0-846e-604a7ea20fcf"
      },
      "execution_count": 10,
      "outputs": [
        {
          "output_type": "execute_result",
          "data": {
            "text/plain": [
              "1000"
            ]
          },
          "metadata": {},
          "execution_count": 10
        }
      ]
    },
    {
      "cell_type": "code",
      "source": [
        "plot_image(adenocarcinoma_test_image_list[1])\n",
        "plt.show()\n",
        "print(adenocarcinoma_test_image_list[1].shape)"
      ],
      "metadata": {
        "colab": {
          "base_uri": "https://localhost:8080/",
          "height": 247
        },
        "id": "rVBxM_I1uPrG",
        "outputId": "7bcb0282-f9d5-46d3-e742-79e20b507439"
      },
      "execution_count": 11,
      "outputs": [
        {
          "output_type": "display_data",
          "data": {
            "text/plain": [
              "<Figure size 432x288 with 1 Axes>"
            ],
            "image/png": "[encoded data removed]"
          },
          "metadata": {
            "needs_background": "light"
          }
        },
        {
          "output_type": "stream",
          "name": "stdout",
          "text": [
            "(260, 439, 3)\n"
          ]
        }
      ]
    },
    {
      "cell_type": "markdown",
      "source": [
        "함수 생성"
      ],
      "metadata": {
        "id": "PtJcVXCFh0rH"
      }
    },
    {
      "cell_type": "code",
      "source": [
        "def biggest_image(image_list):\n",
        "  height = int(image_list[0].shape[0])\n",
        "  width = int(image_list[0].shape[1])\n",
        "\n",
        "  for i in image_list:\n",
        "    image_height = int(i.shape[0])\n",
        "    image_width = int(i.shape[1])\n",
        "    if height < image_height:\n",
        "      height = image_height\n",
        "    if width < image_width:\n",
        "      width = image_width\n",
        "    \n",
        "    print(height, width)\n",
        "\n",
        "  return height, width"
      ],
      "metadata": {
        "id": "y6dSO32bQDvH"
      },
      "execution_count": 12,
      "outputs": []
    },
    {
      "cell_type": "code",
      "source": [
        "def compare_hw(h,w,image):\n",
        "  h_2, w_2 = biggest_image(image)\n",
        "\n",
        "  if h_2 > h:\n",
        "    h = h_2\n",
        "\n",
        "  if w_2 > w:\n",
        "    w = w_2\n",
        "\n",
        "  return w, h\n"
      ],
      "metadata": {
        "id": "T-33wiW-pEvQ"
      },
      "execution_count": 13,
      "outputs": []
    },
    {
      "cell_type": "code",
      "source": [
        "height, width = biggest_image(data)\n",
        "print(height, width)"
      ],
      "metadata": {
        "id": "hcWApmYHp99R",
        "colab": {
          "base_uri": "https://localhost:8080/"
        },
        "outputId": "9da20974-3ca7-41bf-de6b-a38f1a7af25c"
      },
      "execution_count": 14,
      "outputs": [
        {
          "output_type": "stream",
          "name": "stdout",
          "text": [
            "320 444\n",
            "320 444\n",
            "320 444\n",
            "320 444\n",
            "340 485\n",
            "357 485\n",
            "406 485\n",
            "406 485\n",
            "406 486\n",
            "406 486\n",
            "406 486\n",
            "409 486\n",
            "413 487\n",
            "413 487\n",
            "413 487\n",
            "413 487\n",
            "413 487\n",
            "413 487\n",
            "413 487\n",
            "413 487\n",
            "413 487\n",
            "413 487\n",
            "413 487\n",
            "413 487\n",
            "413 487\n",
            "430 487\n",
            "430 487\n",
            "430 487\n",
            "430 487\n",
            "430 487\n",
            "430 498\n",
            "430 498\n",
            "430 498\n",
            "430 498\n",
            "430 498\n",
            "430 498\n",
            "430 498\n",
            "430 498\n",
            "430 498\n",
            "430 498\n",
            "430 498\n",
            "430 498\n",
            "430 498\n",
            "430 498\n",
            "430 498\n",
            "430 498\n",
            "430 498\n",
            "430 498\n",
            "430 498\n",
            "430 498\n",
            "430 498\n",
            "430 498\n",
            "430 498\n",
            "430 498\n",
            "430 498\n",
            "430 498\n",
            "430 506\n",
            "430 506\n",
            "430 506\n",
            "430 506\n",
            "430 506\n",
            "430 506\n",
            "430 506\n",
            "430 506\n",
            "430 506\n",
            "430 506\n",
            "430 506\n",
            "430 506\n",
            "430 506\n",
            "430 506\n",
            "430 506\n",
            "430 506\n",
            "430 506\n",
            "430 506\n",
            "430 506\n",
            "430 506\n",
            "430 506\n",
            "430 506\n",
            "430 506\n",
            "430 506\n",
            "430 506\n",
            "430 506\n",
            "430 506\n",
            "430 506\n",
            "430 506\n",
            "430 506\n",
            "430 506\n",
            "430 506\n",
            "430 506\n",
            "430 506\n",
            "430 506\n",
            "430 506\n",
            "430 506\n",
            "430 506\n",
            "430 506\n",
            "430 506\n",
            "430 506\n",
            "430 506\n",
            "430 506\n",
            "430 506\n",
            "430 506\n",
            "430 506\n",
            "430 506\n",
            "430 506\n",
            "430 506\n",
            "430 506\n",
            "430 506\n",
            "430 506\n",
            "430 506\n",
            "430 506\n",
            "430 506\n",
            "430 506\n",
            "430 506\n",
            "430 506\n",
            "430 506\n",
            "430 506\n",
            "430 506\n",
            "430 506\n",
            "430 506\n",
            "430 506\n",
            "430 506\n",
            "430 506\n",
            "430 506\n",
            "430 506\n",
            "430 506\n",
            "430 506\n",
            "430 506\n",
            "430 506\n",
            "430 506\n",
            "430 506\n",
            "430 506\n",
            "430 506\n",
            "430 506\n",
            "430 506\n",
            "430 506\n",
            "430 506\n",
            "430 506\n",
            "430 506\n",
            "430 506\n",
            "430 506\n",
            "430 506\n",
            "430 506\n",
            "430 506\n",
            "430 506\n",
            "430 506\n",
            "430 506\n",
            "430 506\n",
            "430 506\n",
            "430 506\n",
            "430 506\n",
            "430 506\n",
            "430 506\n",
            "430 506\n",
            "430 506\n",
            "430 506\n",
            "430 506\n",
            "430 506\n",
            "430 506\n",
            "430 506\n",
            "430 506\n",
            "430 506\n",
            "430 506\n",
            "430 506\n",
            "430 506\n",
            "430 506\n",
            "430 506\n",
            "430 506\n",
            "430 506\n",
            "430 506\n",
            "430 506\n",
            "430 506\n",
            "430 506\n",
            "430 506\n",
            "430 506\n",
            "430 506\n",
            "430 506\n",
            "430 506\n",
            "430 506\n",
            "430 506\n",
            "430 506\n",
            "430 506\n",
            "430 506\n",
            "430 506\n",
            "430 506\n",
            "430 506\n",
            "430 506\n",
            "430 506\n",
            "430 506\n",
            "430 506\n",
            "430 506\n",
            "430 506\n",
            "430 506\n",
            "430 506\n",
            "430 506\n",
            "430 506\n",
            "430 506\n",
            "430 506\n",
            "430 506\n",
            "430 506\n",
            "430 506\n",
            "430 506\n",
            "430 506\n",
            "430 506\n",
            "430 506\n",
            "430 506\n",
            "430 506\n",
            "430 506\n",
            "430 506\n",
            "430 506\n",
            "430 506\n",
            "430 506\n",
            "430 506\n",
            "430 506\n",
            "430 506\n",
            "430 506\n",
            "430 506\n",
            "430 506\n",
            "430 506\n",
            "430 506\n",
            "430 506\n",
            "430 506\n",
            "430 506\n",
            "430 506\n",
            "430 506\n",
            "430 506\n",
            "430 506\n",
            "430 506\n",
            "430 506\n",
            "430 506\n",
            "430 506\n",
            "430 506\n",
            "430 506\n",
            "430 506\n",
            "430 506\n",
            "430 506\n",
            "430 506\n",
            "430 506\n",
            "430 506\n",
            "430 506\n",
            "430 506\n",
            "430 506\n",
            "430 506\n",
            "430 506\n",
            "430 506\n",
            "802 1200\n",
            "802 1200\n",
            "802 1200\n",
            "802 1200\n",
            "802 1200\n",
            "802 1200\n",
            "802 1200\n",
            "802 1200\n",
            "802 1200\n",
            "802 1200\n",
            "802 1200\n",
            "802 1200\n",
            "802 1200\n",
            "802 1200\n",
            "802 1200\n",
            "802 1200\n",
            "802 1200\n",
            "802 1200\n",
            "802 1200\n",
            "802 1200\n",
            "802 1200\n",
            "802 1200\n",
            "802 1200\n",
            "802 1200\n",
            "802 1200\n",
            "802 1200\n",
            "802 1200\n",
            "802 1200\n",
            "802 1200\n",
            "802 1200\n",
            "802 1200\n",
            "802 1200\n",
            "802 1200\n",
            "802 1200\n",
            "802 1200\n",
            "802 1200\n",
            "802 1200\n",
            "802 1200\n",
            "802 1200\n",
            "802 1200\n",
            "802 1200\n",
            "802 1200\n",
            "802 1200\n",
            "802 1200\n",
            "802 1200\n",
            "802 1200\n",
            "802 1200\n",
            "802 1200\n",
            "802 1200\n",
            "802 1200\n",
            "802 1200\n",
            "802 1200\n",
            "802 1200\n",
            "802 1200\n",
            "802 1200\n",
            "802 1200\n",
            "874 1200\n",
            "874 1200\n",
            "874 1200\n",
            "874 1200\n",
            "874 1200\n",
            "874 1200\n",
            "874 1200\n",
            "874 1200\n",
            "874 1200\n",
            "874 1200\n",
            "874 1200\n",
            "874 1200\n",
            "874 1200\n",
            "874 1200\n",
            "874 1200\n",
            "874 1200\n",
            "874 1200\n",
            "874 1200\n",
            "874 1200\n",
            "874 1200\n",
            "874 1200\n",
            "874 1200\n",
            "874 1200\n",
            "874 1200\n",
            "874 1200\n",
            "874 1200\n",
            "874 1200\n",
            "874 1200\n",
            "874 1200\n",
            "874 1200\n",
            "874 1200\n",
            "874 1200\n",
            "874 1200\n",
            "874 1200\n",
            "874 1200\n",
            "874 1200\n",
            "874 1200\n",
            "874 1200\n",
            "874 1200\n",
            "874 1200\n",
            "874 1200\n",
            "874 1200\n",
            "874 1200\n",
            "874 1200\n",
            "874 1200\n",
            "874 1200\n",
            "874 1200\n",
            "874 1200\n",
            "874 1200\n",
            "874 1200\n",
            "874 1200\n",
            "874 1200\n",
            "874 1200\n",
            "874 1200\n",
            "874 1200\n",
            "874 1200\n",
            "874 1200\n",
            "874 1200\n",
            "874 1200\n",
            "874 1200\n",
            "874 1200\n",
            "874 1200\n",
            "874 1200\n",
            "874 1200\n",
            "874 1200\n",
            "874 1200\n",
            "874 1200\n",
            "874 1200\n",
            "874 1200\n",
            "874 1200\n",
            "874 1200\n",
            "874 1200\n",
            "874 1200\n",
            "874 1200\n",
            "874 1200\n",
            "874 1200\n",
            "874 1200\n",
            "874 1200\n",
            "874 1200\n",
            "874 1200\n",
            "874 1200\n",
            "874 1200\n",
            "874 1200\n",
            "874 1200\n",
            "874 1200\n",
            "874 1200\n",
            "874 1200\n",
            "874 1200\n",
            "874 1200\n",
            "874 1200\n",
            "874 1200\n",
            "874 1200\n",
            "874 1200\n",
            "874 1200\n",
            "874 1200\n",
            "874 1200\n",
            "874 1200\n",
            "874 1200\n",
            "874 1200\n",
            "874 1200\n",
            "874 1200\n",
            "874 1200\n",
            "874 1200\n",
            "874 1200\n",
            "874 1200\n",
            "874 1200\n",
            "874 1200\n",
            "874 1200\n",
            "874 1200\n",
            "874 1200\n",
            "874 1200\n",
            "874 1200\n",
            "874 1200\n",
            "874 1200\n",
            "874 1200\n",
            "874 1200\n",
            "874 1200\n",
            "874 1200\n",
            "874 1200\n",
            "874 1200\n",
            "874 1200\n",
            "874 1200\n",
            "874 1200\n",
            "874 1200\n",
            "874 1200\n",
            "874 1200\n",
            "874 1200\n",
            "874 1200\n",
            "874 1200\n",
            "874 1200\n",
            "874 1200\n",
            "874 1200\n",
            "874 1200\n",
            "874 1200\n",
            "874 1200\n",
            "874 1200\n",
            "874 1200\n",
            "874 1200\n",
            "874 1200\n",
            "874 1200\n",
            "874 1200\n",
            "874 1200\n",
            "874 1200\n",
            "874 1200\n",
            "874 1200\n",
            "874 1200\n",
            "874 1200\n",
            "874 1200\n",
            "874 1200\n",
            "874 1200\n",
            "874 1200\n",
            "874 1200\n",
            "874 1200\n",
            "874 1200\n",
            "874 1200\n",
            "874 1200\n",
            "874 1200\n",
            "874 1200\n",
            "874 1200\n",
            "874 1200\n",
            "874 1200\n",
            "874 1200\n",
            "874 1200\n",
            "874 1200\n",
            "874 1200\n",
            "874 1200\n",
            "874 1200\n",
            "874 1200\n",
            "874 1200\n",
            "874 1200\n",
            "874 1200\n",
            "874 1200\n",
            "874 1200\n",
            "874 1200\n",
            "874 1200\n",
            "874 1200\n",
            "874 1200\n",
            "874 1200\n",
            "874 1200\n",
            "874 1200\n",
            "874 1200\n",
            "874 1200\n",
            "874 1200\n",
            "874 1200\n",
            "874 1200\n",
            "874 1200\n",
            "874 1200\n",
            "874 1200\n",
            "874 1200\n",
            "874 1200\n",
            "874 1200\n",
            "874 1200\n",
            "874 1200\n",
            "874 1200\n",
            "874 1200\n",
            "874 1200\n",
            "874 1200\n",
            "874 1200\n",
            "874 1200\n",
            "874 1200\n",
            "874 1200\n",
            "874 1200\n",
            "874 1200\n",
            "874 1200\n",
            "874 1200\n",
            "874 1200\n",
            "874 1200\n",
            "874 1200\n",
            "874 1200\n",
            "874 1200\n",
            "874 1200\n",
            "874 1200\n",
            "874 1200\n",
            "874 1200\n",
            "874 1200\n",
            "874 1200\n",
            "874 1200\n",
            "874 1200\n",
            "874 1200\n",
            "874 1200\n",
            "874 1200\n",
            "874 1200\n",
            "874 1200\n",
            "874 1200\n",
            "874 1200\n",
            "874 1200\n",
            "874 1200\n",
            "874 1200\n",
            "874 1200\n",
            "874 1200\n",
            "874 1200\n",
            "874 1200\n",
            "874 1200\n",
            "874 1200\n",
            "874 1200\n",
            "874 1200\n",
            "874 1200\n",
            "874 1200\n",
            "874 1200\n",
            "874 1200\n",
            "874 1200\n",
            "874 1200\n",
            "874 1200\n",
            "874 1200\n",
            "874 1200\n",
            "874 1200\n",
            "874 1200\n",
            "874 1200\n",
            "874 1200\n",
            "874 1200\n",
            "874 1200\n",
            "874 1200\n",
            "874 1200\n",
            "874 1200\n",
            "874 1200\n",
            "874 1200\n",
            "874 1200\n",
            "874 1200\n",
            "874 1200\n",
            "874 1200\n",
            "874 1200\n",
            "874 1200\n",
            "874 1200\n",
            "874 1200\n",
            "874 1200\n",
            "874 1200\n",
            "874 1200\n",
            "874 1200\n",
            "874 1200\n",
            "874 1200\n",
            "874 1200\n",
            "874 1200\n",
            "874 1200\n",
            "874 1200\n",
            "874 1200\n",
            "874 1200\n",
            "874 1200\n",
            "874 1200\n",
            "874 1200\n",
            "874 1200\n",
            "874 1200\n",
            "874 1200\n",
            "874 1200\n",
            "874 1200\n",
            "874 1200\n",
            "874 1200\n",
            "874 1200\n",
            "874 1200\n",
            "874 1200\n",
            "874 1200\n",
            "874 1200\n",
            "874 1200\n",
            "874 1200\n",
            "874 1200\n",
            "874 1200\n",
            "874 1200\n",
            "874 1200\n",
            "874 1200\n",
            "874 1200\n",
            "874 1200\n",
            "874 1200\n",
            "874 1200\n",
            "874 1200\n",
            "874 1200\n",
            "874 1200\n",
            "874 1200\n",
            "874 1200\n",
            "874 1200\n",
            "874 1200\n",
            "874 1200\n",
            "874 1200\n",
            "874 1200\n",
            "874 1200\n",
            "874 1200\n",
            "874 1200\n",
            "874 1200\n",
            "874 1200\n",
            "874 1200\n",
            "874 1200\n",
            "874 1200\n",
            "874 1200\n",
            "874 1200\n",
            "874 1200\n",
            "874 1200\n",
            "874 1200\n",
            "874 1200\n",
            "874 1200\n",
            "874 1200\n",
            "874 1200\n",
            "874 1200\n",
            "874 1200\n",
            "874 1200\n",
            "874 1200\n",
            "874 1200\n",
            "874 1200\n",
            "874 1200\n",
            "874 1200\n",
            "874 1200\n",
            "874 1200\n",
            "874 1200\n",
            "874 1200\n",
            "874 1200\n",
            "874 1200\n",
            "874 1200\n",
            "874 1200\n",
            "874 1200\n",
            "874 1200\n",
            "874 1200\n",
            "874 1200\n",
            "874 1200\n",
            "874 1200\n",
            "874 1200\n",
            "874 1200\n",
            "874 1200\n",
            "874 1200\n",
            "874 1200\n",
            "874 1200\n",
            "874 1200\n",
            "874 1200\n",
            "874 1200\n",
            "874 1200\n",
            "874 1200\n",
            "874 1200\n",
            "874 1200\n",
            "874 1200\n",
            "874 1200\n",
            "874 1200\n",
            "874 1200\n",
            "874 1200\n",
            "874 1200\n",
            "874 1200\n",
            "874 1200\n",
            "874 1200\n",
            "874 1200\n",
            "874 1200\n",
            "874 1200\n",
            "874 1200\n",
            "874 1200\n",
            "874 1200\n",
            "874 1200\n",
            "874 1200\n",
            "874 1200\n",
            "874 1200\n",
            "874 1200\n",
            "874 1200\n",
            "874 1200\n",
            "874 1200\n",
            "874 1200\n",
            "874 1200\n",
            "874 1200\n",
            "874 1200\n",
            "874 1200\n",
            "874 1200\n",
            "874 1200\n",
            "874 1200\n",
            "874 1200\n",
            "874 1200\n",
            "874 1200\n",
            "874 1200\n",
            "874 1200\n",
            "874 1200\n",
            "874 1200\n",
            "874 1200\n",
            "874 1200\n",
            "874 1200\n",
            "874 1200\n",
            "874 1200\n",
            "874 1200\n",
            "874 1200\n",
            "874 1200\n",
            "874 1200\n",
            "874 1200\n",
            "874 1200\n",
            "874 1200\n",
            "874 1200\n",
            "874 1200\n",
            "874 1200\n",
            "874 1200\n",
            "874 1200\n",
            "874 1200\n",
            "874 1200\n",
            "874 1200\n",
            "874 1200\n",
            "874 1200\n",
            "874 1200\n",
            "874 1200\n",
            "874 1200\n",
            "874 1200\n",
            "874 1200\n",
            "874 1200\n",
            "874 1200\n",
            "874 1200\n",
            "874 1200\n",
            "874 1200\n",
            "874 1200\n",
            "874 1200\n",
            "874 1200\n",
            "874 1200\n",
            "874 1200\n",
            "874 1200\n",
            "874 1200\n",
            "874 1200\n",
            "874 1200\n",
            "874 1200\n",
            "874 1200\n",
            "874 1200\n",
            "874 1200\n",
            "874 1200\n",
            "874 1200\n",
            "874 1200\n",
            "874 1200\n",
            "874 1200\n",
            "874 1200\n",
            "874 1200\n",
            "874 1200\n",
            "874 1200\n",
            "874 1200\n",
            "874 1200\n",
            "874 1200\n",
            "874 1200\n",
            "874 1200\n",
            "874 1200\n",
            "874 1200\n",
            "874 1200\n",
            "874 1200\n",
            "874 1200\n",
            "874 1200\n",
            "874 1200\n",
            "874 1200\n",
            "874 1200\n",
            "874 1200\n",
            "874 1200\n",
            "874 1200\n",
            "874 1200\n",
            "874 1200\n",
            "874 1200\n",
            "874 1200\n",
            "874 1200\n",
            "874 1200\n",
            "874 1200\n",
            "874 1200\n",
            "874 1200\n",
            "874 1200\n",
            "874 1200\n",
            "874 1200\n",
            "874 1200\n",
            "874 1200\n",
            "874 1200\n",
            "874 1200\n",
            "874 1200\n",
            "874 1200\n",
            "874 1200\n",
            "874 1200\n",
            "874 1200\n",
            "874 1200\n",
            "874 1200\n",
            "874 1200\n",
            "874 1200\n",
            "874 1200\n",
            "874 1200\n",
            "874 1200\n",
            "874 1200\n",
            "874 1200\n",
            "874 1200\n",
            "874 1200\n",
            "874 1200\n",
            "874 1200\n",
            "874 1200\n",
            "874 1200\n",
            "874 1200\n",
            "874 1200\n",
            "874 1200\n",
            "874 1200\n",
            "874 1200\n",
            "874 1200\n",
            "874 1200\n",
            "874 1200\n",
            "874 1200\n",
            "874 1200\n",
            "874 1200\n",
            "874 1200\n",
            "874 1200\n",
            "874 1200\n",
            "874 1200\n",
            "874 1200\n",
            "874 1200\n",
            "874 1200\n",
            "874 1200\n",
            "874 1200\n",
            "874 1200\n",
            "874 1200\n",
            "874 1200\n",
            "874 1200\n",
            "874 1200\n",
            "874 1200\n",
            "874 1200\n",
            "874 1200\n",
            "874 1200\n",
            "874 1200\n",
            "874 1200\n",
            "874 1200\n",
            "874 1200\n",
            "874 1200\n",
            "874 1200\n",
            "874 1200\n",
            "874 1200\n",
            "874 1200\n",
            "874 1200\n",
            "874 1200\n",
            "874 1200\n",
            "874 1200\n",
            "874 1200\n",
            "874 1200\n",
            "874 1200\n",
            "874 1200\n",
            "874 1200\n",
            "874 1200\n",
            "874 1200\n",
            "874 1200\n",
            "874 1200\n",
            "874 1200\n",
            "874 1200\n",
            "874 1200\n",
            "874 1200\n",
            "874 1200\n",
            "874 1200\n",
            "874 1200\n",
            "874 1200\n",
            "874 1200\n",
            "874 1200\n",
            "874 1200\n",
            "874 1200\n",
            "874 1200\n",
            "874 1200\n",
            "874 1200\n",
            "874 1200\n",
            "874 1200\n",
            "874 1200\n",
            "874 1200\n",
            "874 1200\n",
            "874 1200\n",
            "874 1200\n",
            "874 1200\n",
            "874 1200\n",
            "874 1200\n",
            "874 1200\n",
            "874 1200\n",
            "874 1200\n",
            "874 1200\n",
            "874 1200\n",
            "874 1200\n",
            "874 1200\n",
            "874 1200\n",
            "874 1200\n",
            "874 1200\n",
            "874 1200\n",
            "874 1200\n",
            "874 1200\n",
            "874 1200\n",
            "874 1200\n",
            "874 1200\n",
            "874 1200\n",
            "874 1200\n",
            "874 1200\n",
            "874 1200\n",
            "874 1200\n",
            "874 1200\n",
            "874 1200\n",
            "874 1200\n",
            "874 1200\n",
            "874 1200\n",
            "874 1200\n",
            "874 1200\n",
            "874 1200\n",
            "874 1200\n",
            "874 1200\n",
            "874 1200\n",
            "874 1200\n",
            "874 1200\n",
            "874 1200\n",
            "874 1200\n",
            "874 1200\n",
            "874 1200\n",
            "874 1200\n",
            "874 1200\n",
            "874 1200\n",
            "874 1200\n",
            "874 1200\n",
            "874 1200\n",
            "874 1200\n",
            "874 1200\n",
            "874 1200\n",
            "874 1200\n",
            "874 1200\n",
            "874 1200\n",
            "874 1200\n",
            "874 1200\n",
            "874 1200\n",
            "874 1200\n",
            "874 1200\n",
            "874 1200\n",
            "874 1200\n",
            "874 1200\n",
            "874 1200\n",
            "874 1200\n",
            "874 1200\n",
            "874 1200\n",
            "874 1200\n",
            "874 1200\n",
            "874 1200\n",
            "874 1200\n",
            "874 1200\n",
            "874 1200\n",
            "874 1200\n",
            "874 1200\n",
            "874 1200\n",
            "874 1200\n",
            "874 1200\n",
            "874 1200\n",
            "874 1200\n",
            "874 1200\n",
            "874 1200\n",
            "874 1200\n",
            "874 1200\n",
            "874 1200\n",
            "874 1200\n",
            "874 1200\n",
            "874 1200\n",
            "874 1200\n",
            "874 1200\n",
            "874 1200\n",
            "874 1200\n",
            "874 1200\n",
            "874 1200\n",
            "874 1200\n",
            "874 1200\n",
            "874 1200\n",
            "874 1200\n",
            "874 1200\n",
            "874 1200\n",
            "874 1200\n",
            "874 1200\n",
            "874 1200\n",
            "874 1200\n",
            "874 1200\n",
            "874 1200\n",
            "874 1200\n",
            "874 1200\n",
            "874 1200\n",
            "874 1200\n",
            "874 1200\n",
            "874 1200\n",
            "874 1200\n",
            "874 1200\n",
            "874 1200\n",
            "874 1200\n",
            "874 1200\n",
            "874 1200\n",
            "874 1200\n",
            "874 1200\n",
            "874 1200\n"
          ]
        }
      ]
    },
    {
      "cell_type": "markdown",
      "source": [
        "이미지 변환"
      ],
      "metadata": {
        "id": "PEsbEDGhqd_j"
      }
    },
    {
      "cell_type": "code",
      "source": [
        "import tensorflow as tf\n",
        "import torch\n",
        "\n",
        "a = tf.image.resize_with_crop_or_pad(adenocarcinoma_test_image_list[1],400, 400)\n",
        "\n",
        "plot_image(a)\n",
        "plt.show()"
      ],
      "metadata": {
        "colab": {
          "base_uri": "https://localhost:8080/",
          "height": 248
        },
        "id": "1qCA8Ru-lx9X",
        "outputId": "ca84a7ba-ea87-4eb0-8f86-56ef5690227b"
      },
      "execution_count": 15,
      "outputs": [
        {
          "output_type": "display_data",
          "data": {
            "text/plain": [
              "<Figure size 432x288 with 1 Axes>"
            ],
            "image/png": "[encoded data removed]"
          },
          "metadata": {
            "needs_background": "light"
          }
        }
      ]
    },
    {
      "cell_type": "code",
      "source": [
        "height, width"
      ],
      "metadata": {
        "colab": {
          "base_uri": "https://localhost:8080/"
        },
        "id": "JFZpGbhDvJBS",
        "outputId": "ce66d354-7eb1-4dae-e7bd-1b274fdad510"
      },
      "execution_count": 16,
      "outputs": [
        {
          "output_type": "execute_result",
          "data": {
            "text/plain": [
              "(874, 1200)"
            ]
          },
          "metadata": {},
          "execution_count": 16
        }
      ]
    },
    {
      "cell_type": "code",
      "source": [
        "image_data = []\n",
        "\n",
        "for i in data:\n",
        "  image_data.append(tf.image.resize_with_crop_or_pad(i,height, width))"
      ],
      "metadata": {
        "id": "KvxlPL_yqkMT"
      },
      "execution_count": 17,
      "outputs": []
    },
    {
      "cell_type": "code",
      "source": [
        "plot_image(image_data[1])\n",
        "plt.show()"
      ],
      "metadata": {
        "colab": {
          "base_uri": "https://localhost:8080/",
          "height": 248
        },
        "id": "ozvNlsrerIpr",
        "outputId": "4195383b-bf8a-4849-c914-d47bd1179c6b"
      },
      "execution_count": 18,
      "outputs": [
        {
          "output_type": "display_data",
          "data": {
            "text/plain": [
              "<Figure size 432x288 with 1 Axes>"
            ],
            "image/png": "[encoded data removed]"
          },
          "metadata": {
            "needs_background": "light"
          }
        }
      ]
    },
    {
      "cell_type": "code",
      "source": [
        "a = tf.image.resize_with_crop_or_pad(image_data[1],height//4, width//4)\n",
        "\n",
        "plot_image(a)\n",
        "plt.show()"
      ],
      "metadata": {
        "colab": {
          "base_uri": "https://localhost:8080/",
          "height": 248
        },
        "id": "s2PXK2oEZVNH",
        "outputId": "d4f2ccbc-0a3b-4ad2-d47e-f16e5776b972"
      },
      "execution_count": 19,
      "outputs": [
        {
          "output_type": "display_data",
          "data": {
            "text/plain": [
              "<Figure size 432x288 with 1 Axes>"
            ],
            "image/png": "[encoded data removed]"
          },
          "metadata": {
            "needs_background": "light"
          }
        }
      ]
    },
    {
      "cell_type": "code",
      "source": [
        "image_data[0].shape"
      ],
      "metadata": {
        "colab": {
          "base_uri": "https://localhost:8080/"
        },
        "id": "PRrYO26WrNkW",
        "outputId": "d071536c-68a7-4cdc-8b65-996c0505aee9"
      },
      "execution_count": 20,
      "outputs": [
        {
          "output_type": "execute_result",
          "data": {
            "text/plain": [
              "TensorShape([874, 1200, 3])"
            ]
          },
          "metadata": {},
          "execution_count": 20
        }
      ]
    },
    {
      "cell_type": "markdown",
      "source": [
        "이미지 변환 함수 생성"
      ],
      "metadata": {
        "id": "vnfkTaIZu9F9"
      }
    },
    {
      "cell_type": "code",
      "source": [
        "def transpose_image(w, h, data):\n",
        "  image_data = []\n",
        "\n",
        "  for i in data:\n",
        "    image_data.append(tf.image.resize_with_crop_or_pad(i,height, width))\n",
        "\n",
        "  return image_data"
      ],
      "metadata": {
        "id": "_PGrJ29bu8fJ"
      },
      "execution_count": 21,
      "outputs": []
    },
    {
      "cell_type": "code",
      "source": [
        "adenocarcinoma_train_ts_image = transpose_image(width, height, adenocarcinoma_train_image_list)\n",
        "adenocarcinoma_test_ts_image = transpose_image(width, height, adenocarcinoma_test_image_list)\n",
        "\n",
        "normal_train_ts_image = transpose_image(width, height, normal_train_image_list)\n",
        "normal_test_ts_image = transpose_image(width, height, normal_test_image_list)"
      ],
      "metadata": {
        "id": "oIOx2E2asSxG"
      },
      "execution_count": 22,
      "outputs": []
    },
    {
      "cell_type": "code",
      "source": [
        "print(len(adenocarcinoma_test_ts_image), len(normal_test_ts_image), len(adenocarcinoma_train_ts_image), len(normal_train_ts_image))"
      ],
      "metadata": {
        "colab": {
          "base_uri": "https://localhost:8080/"
        },
        "id": "_9noSlJ5Q6dt",
        "outputId": "6ed2afed-b949-4d40-a3bf-9c7c0cbefef7"
      },
      "execution_count": 23,
      "outputs": [
        {
          "output_type": "stream",
          "name": "stdout",
          "text": [
            "120 54 195 148\n"
          ]
        }
      ]
    },
    {
      "cell_type": "code",
      "source": [
        "from tensorflow import keras"
      ],
      "metadata": {
        "id": "A0ZS_lgEvnoi"
      },
      "execution_count": 24,
      "outputs": []
    },
    {
      "cell_type": "code",
      "source": [
        "plot_image(adenocarcinoma_test_ts_image[0])\n",
        "plt.show()"
      ],
      "metadata": {
        "colab": {
          "base_uri": "https://localhost:8080/",
          "height": 248
        },
        "id": "fLGHKwVsIcce",
        "outputId": "1d1f2319-a5a9-4db0-e5a7-791eb26fe46d"
      },
      "execution_count": 25,
      "outputs": [
        {
          "output_type": "display_data",
          "data": {
            "text/plain": [
              "<Figure size 432x288 with 1 Axes>"
            ],
            "image/png": "[encoded data removed]"
          },
          "metadata": {
            "needs_background": "light"
          }
        }
      ]
    },
    {
      "cell_type": "code",
      "source": [
        "adenocarcinoma_test_ts_image[0].shape"
      ],
      "metadata": {
        "colab": {
          "base_uri": "https://localhost:8080/"
        },
        "id": "C9ZAcFIaNgwe",
        "outputId": "55537fcf-3fbb-4064-a672-38dcd5351d27"
      },
      "execution_count": 26,
      "outputs": [
        {
          "output_type": "execute_result",
          "data": {
            "text/plain": [
              "TensorShape([874, 1200, 3])"
            ]
          },
          "metadata": {},
          "execution_count": 26
        }
      ]
    },
    {
      "cell_type": "code",
      "source": [
        "len(adenocarcinoma_train_ts_image)"
      ],
      "metadata": {
        "colab": {
          "base_uri": "https://localhost:8080/"
        },
        "id": "kazvOue9TLZF",
        "outputId": "29cbbf7a-72f9-42f7-ea19-808984d19518"
      },
      "execution_count": 27,
      "outputs": [
        {
          "output_type": "execute_result",
          "data": {
            "text/plain": [
              "195"
            ]
          },
          "metadata": {},
          "execution_count": 27
        }
      ]
    },
    {
      "cell_type": "code",
      "source": [
        "from tensorflow import keras\n",
        "from sklearn.model_selection import train_test_split\n",
        "import numpy as np\n",
        "\n",
        "train_target = np.zeros(len(adenocarcinoma_train_ts_image) + len(normal_train_ts_image))\n",
        "test_target = np.zeros(len(adenocarcinoma_test_ts_image) + len(normal_test_ts_image))\n",
        "\n",
        "train_data = adenocarcinoma_train_ts_image + normal_train_ts_image\n",
        "test_data = adenocarcinoma_test_ts_image + normal_test_ts_image"
      ],
      "metadata": {
        "id": "Nb4-KMEqP188"
      },
      "execution_count": 28,
      "outputs": []
    },
    {
      "cell_type": "code",
      "source": [
        "train_scaled = np.array(train_data).reshape(-1, height, width, 3)"
      ],
      "metadata": {
        "id": "UY5a8egOSPbq"
      },
      "execution_count": 29,
      "outputs": []
    },
    {
      "cell_type": "code",
      "source": [
        "model = keras.Sequential()\n",
        "model.add(keras.layers.Conv2D(32, kernel_size=3, activation='relu', padding='same', input_shape = (height, width,3)))\n",
        "model.add(keras.layers.MaxPooling2D(2))\n",
        "model.add(keras.layers.Conv2D(64, kernel_size=3, activation='relu', padding='same'))\n",
        "model.add(keras.layers.MaxPooling2D(2))\n",
        "model.add(keras.layers.Flatten())\n",
        "model.add(keras.layers.Dense(100, activation='relu'))\n",
        "model.add(keras.layers.Dropout(0.4))\n",
        "model.add(keras.layers.Dense(1))\n"
      ],
      "metadata": {
        "id": "HD0GHjscTt6E"
      },
      "execution_count": 30,
      "outputs": []
    },
    {
      "cell_type": "code",
      "source": [
        "model.summary()"
      ],
      "metadata": {
        "colab": {
          "base_uri": "https://localhost:8080/"
        },
        "id": "GgsD9qnWUmvv",
        "outputId": "b0af939a-cb35-48cf-83da-9c1f4199a336"
      },
      "execution_count": 31,
      "outputs": [
        {
          "output_type": "stream",
          "name": "stdout",
          "text": [
            "Model: \"sequential\"\n",
            "_________________________________________________________________\n",
            " Layer (type)                Output Shape              Param #   \n",
            "=================================================================\n",
            " conv2d (Conv2D)             (None, 874, 1200, 32)     896       \n",
            "                                                                 \n",
            " max_pooling2d (MaxPooling2D  (None, 437, 600, 32)     0         \n",
            " )                                                               \n",
            "                                                                 \n",
            " conv2d_1 (Conv2D)           (None, 437, 600, 64)      18496     \n",
            "                                                                 \n",
            " max_pooling2d_1 (MaxPooling  (None, 218, 300, 64)     0         \n",
            " 2D)                                                             \n",
            "                                                                 \n",
            " flatten (Flatten)           (None, 4185600)           0         \n",
            "                                                                 \n",
            " dense (Dense)               (None, 100)               418560100 \n",
            "                                                                 \n",
            " dropout (Dropout)           (None, 100)               0         \n",
            "                                                                 \n",
            " dense_1 (Dense)             (None, 1)                 101       \n",
            "                                                                 \n",
            "=================================================================\n",
            "Total params: 418,579,593\n",
            "Trainable params: 418,579,593\n",
            "Non-trainable params: 0\n",
            "_________________________________________________________________\n"
          ]
        }
      ]
    },
    {
      "cell_type": "code",
      "source": [
        "model.compile(optimizer='adam', loss='sparse_categorical_crossentropy', metrics='accuracy')\n",
        "checkpoint_cb = keras.callbacks.ModelCheckpoint('best-cnn-model.h5', save_best_only=True)\n",
        "early_stopping_cb = keras.callbacks.EarlyStopping(patience=3, restore_best_weights=True)"
      ],
      "metadata": {
        "id": "1FNGWwjQVhLo"
      },
      "execution_count": 32,
      "outputs": []
    },
    {
      "cell_type": "code",
      "source": [
        "model2 = keras.Sequential()\n",
        "model2.add(keras.layers.Conv2D(8, kernel_size=3, activation='relu', padding='same', input_shape = (height, width,3)))\n",
        "model2.add(keras.layers.MaxPooling2D(2))\n",
        "model2.add(keras.layers.Conv2D(16, kernel_size=3, activation='relu', padding='same'))\n",
        "model2.add(keras.layers.MaxPooling2D(2))\n",
        "model2.add(keras.layers.Flatten())\n",
        "model2.add(keras.layers.Dense(20, activation='relu'))\n",
        "model2.add(keras.layers.Dropout(0.4))\n",
        "model2.add(keras.layers.Dense(1))"
      ],
      "metadata": {
        "id": "AigPJHuqcdpB"
      },
      "execution_count": 33,
      "outputs": []
    },
    {
      "cell_type": "code",
      "source": [
        "model2.summary()"
      ],
      "metadata": {
        "colab": {
          "base_uri": "https://localhost:8080/"
        },
        "id": "7y9auruccd1w",
        "outputId": "6ad32a02-47dd-4926-a6d7-f5db7e56ace0"
      },
      "execution_count": 34,
      "outputs": [
        {
          "output_type": "stream",
          "name": "stdout",
          "text": [
            "Model: \"sequential_1\"\n",
            "_________________________________________________________________\n",
            " Layer (type)                Output Shape              Param #   \n",
            "=================================================================\n",
            " conv2d_2 (Conv2D)           (None, 874, 1200, 8)      224       \n",
            "                                                                 \n",
            " max_pooling2d_2 (MaxPooling  (None, 437, 600, 8)      0         \n",
            " 2D)                                                             \n",
            "                                                                 \n",
            " conv2d_3 (Conv2D)           (None, 437, 600, 16)      1168      \n",
            "                                                                 \n",
            " max_pooling2d_3 (MaxPooling  (None, 218, 300, 16)     0         \n",
            " 2D)                                                             \n",
            "                                                                 \n",
            " flatten_1 (Flatten)         (None, 1046400)           0         \n",
            "                                                                 \n",
            " dense_2 (Dense)             (None, 20)                20928020  \n",
            "                                                                 \n",
            " dropout_1 (Dropout)         (None, 20)                0         \n",
            "                                                                 \n",
            " dense_3 (Dense)             (None, 1)                 21        \n",
            "                                                                 \n",
            "=================================================================\n",
            "Total params: 20,929,433\n",
            "Trainable params: 20,929,433\n",
            "Non-trainable params: 0\n",
            "_________________________________________________________________\n"
          ]
        }
      ]
    },
    {
      "cell_type": "code",
      "source": [
        "model2.compile(optimizer='adam', loss='sparse_categorical_crossentropy', metrics='accuracy')"
      ],
      "metadata": {
        "id": "r-fw1cMHcd6C"
      },
      "execution_count": 35,
      "outputs": []
    },
    {
      "cell_type": "code",
      "source": [
        "#history = model.fit(train_scaled, train_target, epochs=10, callbacks=[checkpoint_cb, early_stopping_cb])"
      ],
      "metadata": {
        "id": "3yfQNqGoXMAr"
      },
      "execution_count": 36,
      "outputs": []
    },
    {
      "cell_type": "code",
      "source": [
        "history = model2.fit(train_scaled, train_target, epochs=10)"
      ],
      "metadata": {
        "colab": {
          "base_uri": "https://localhost:8080/"
        },
        "id": "CljnMXNmXX8t",
        "outputId": "4dbe1923-3186-4bab-8437-05836a707b24"
      },
      "execution_count": 37,
      "outputs": [
        {
          "output_type": "stream",
          "name": "stdout",
          "text": [
            "Epoch 1/10\n",
            "11/11 [==============================] - 14s 422ms/step - loss: 0.0000e+00 - accuracy: 0.1399\n",
            "Epoch 2/10\n",
            "11/11 [==============================] - 3s 260ms/step - loss: 0.0000e+00 - accuracy: 0.1399\n",
            "Epoch 3/10\n",
            "11/11 [==============================] - 3s 258ms/step - loss: 0.0000e+00 - accuracy: 0.1108\n",
            "Epoch 4/10\n",
            "11/11 [==============================] - 3s 258ms/step - loss: 0.0000e+00 - accuracy: 0.1370\n",
            "Epoch 5/10\n",
            "11/11 [==============================] - 3s 260ms/step - loss: 0.0000e+00 - accuracy: 0.1749\n",
            "Epoch 6/10\n",
            "11/11 [==============================] - 3s 260ms/step - loss: 0.0000e+00 - accuracy: 0.1137\n",
            "Epoch 7/10\n",
            "11/11 [==============================] - 3s 261ms/step - loss: 0.0000e+00 - accuracy: 0.1195\n",
            "Epoch 8/10\n",
            "11/11 [==============================] - 3s 257ms/step - loss: 0.0000e+00 - accuracy: 0.1545\n",
            "Epoch 9/10\n",
            "11/11 [==============================] - 3s 260ms/step - loss: 0.0000e+00 - accuracy: 0.1224\n",
            "Epoch 10/10\n",
            "11/11 [==============================] - 3s 258ms/step - loss: 0.0000e+00 - accuracy: 0.1195\n"
          ]
        }
      ]
    },
    {
      "cell_type": "code",
      "source": [
        "test_scaled = np.array(test_data).reshape(-1, height, width, 3)"
      ],
      "metadata": {
        "id": "Hexuywa_cvD_"
      },
      "execution_count": 38,
      "outputs": []
    },
    {
      "cell_type": "code",
      "source": [
        "model2.evaluate(test_scaled, test_target)"
      ],
      "metadata": {
        "colab": {
          "base_uri": "https://localhost:8080/"
        },
        "id": "PdWw47N1dOny",
        "outputId": "426e8ab0-8dbe-4883-c5d2-2ee8a30fce94"
      },
      "execution_count": 39,
      "outputs": [
        {
          "output_type": "stream",
          "name": "stdout",
          "text": [
            "6/6 [==============================] - 1s 183ms/step - loss: 0.0000e+00 - accuracy: 0.0057\n"
          ]
        },
        {
          "output_type": "execute_result",
          "data": {
            "text/plain": [
              "[0.0, 0.005747126415371895]"
            ]
          },
          "metadata": {},
          "execution_count": 39
        }
      ]
    }
  ]
}