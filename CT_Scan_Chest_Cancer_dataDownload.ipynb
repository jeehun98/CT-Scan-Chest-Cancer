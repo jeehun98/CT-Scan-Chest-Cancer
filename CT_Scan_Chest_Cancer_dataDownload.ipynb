{
  "nbformat": 4,
  "nbformat_minor": 0,
  "metadata": {
    "colab": {
      "provenance": [],
      "collapsed_sections": []
    },
    "kernelspec": {
      "name": "python3",
      "display_name": "Python 3"
    },
    "language_info": {
      "name": "python"
    }
  },
  "cells": [
    {
      "cell_type": "code",
      "execution_count": 79,
      "metadata": {
        "id": "vAru97CxMcaV",
        "colab": {
          "base_uri": "https://localhost:8080/"
        },
        "outputId": "b0592b63-de4c-45ca-c293-bf857ed4764b"
      },
      "outputs": [
        {
          "output_type": "stream",
          "name": "stdout",
          "text": [
            "Drive already mounted at /content/drive; to attempt to forcibly remount, call drive.mount(\"/content/drive\", force_remount=True).\n"
          ]
        }
      ],
      "source": [
        "from google.colab import drive\n",
        "drive.mount('/content/drive')"
      ]
    },
    {
      "cell_type": "code",
      "source": [
        "import pandas as pd\n",
        "import os\n",
        "import cv2"
      ],
      "metadata": {
        "id": "Y9pRuYUMauJh"
      },
      "execution_count": 80,
      "outputs": []
    },
    {
      "cell_type": "markdown",
      "source": [
        "이미지 파일 경로, 각 이미지 파일의 이름을 얻기 위한 작업"
      ],
      "metadata": {
        "id": "8-msgpDYyIej"
      }
    },
    {
      "cell_type": "code",
      "source": [
        "adenocarcinoma_test_file_path = '/content/drive/MyDrive/Data/test/adenocarcinoma'\n",
        "adenocarcinoma_train_file_path = '/content/drive/MyDrive/Data/train/adenocarcinoma_left.lower.lobe_T2_N0_M0_Ib'\n",
        "adenocarcinoma_valid_file_path = '/content/drive/MyDrive/Data/valid/adenocarcinoma_left.lower.lobe_T2_N0_M0_Ib'\n",
        "\n",
        "largecell_test_file_path = '/content/drive/MyDrive/Data/test/large.cell.carcinoma'\n",
        "largecell_train_file_path = '/content/drive/MyDrive/Data/train/large.cell.carcinoma_left.hilum_T2_N2_M0_IIIa'\n",
        "largecell_valid_file_path = '/content/drive/MyDrive/Data/valid/large.cell.carcinoma_left.hilum_T2_N2_M0_IIIa'\n",
        "\n",
        "normal_test_file_path = '/content/drive/MyDrive/Data/test/normal'\n",
        "normal_train_file_path = '/content/drive/MyDrive/Data/train/normal'\n",
        "normal_valid_file_path = '/content/drive/MyDrive/Data/valid/normal'\n",
        "\n",
        "squamous_test_file_path = '/content/drive/MyDrive/Data/test/squamous.cell.carcinoma'\n",
        "squamous_train_file_path = '/content/drive/MyDrive/Data/train/squamous.cell.carcinoma_left.hilum_T1_N2_M0_IIIa'\n",
        "squamous_valid_file_path = '/content/drive/MyDrive/Data/valid/squamous.cell.carcinoma_left.hilum_T1_N2_M0_IIIa'"
      ],
      "metadata": {
        "id": "c1unTVb3a60m"
      },
      "execution_count": 81,
      "outputs": []
    },
    {
      "cell_type": "code",
      "source": [
        "adenocarcinoma_test_image_list = os.listdir(adenocarcinoma_test_file_path)\n",
        "adenocarcinoma_train_image_list = os.listdir(adenocarcinoma_train_file_path)\n",
        "adenocarcinoma_valid_image_list = os.listdir(adenocarcinoma_valid_file_path)\n",
        "\n",
        "largecell_test_image_list = os.listdir(largecell_test_file_path)\n",
        "largecell_train_image_list = os.listdir(largecell_train_file_path)\n",
        "largecell_valid_image_list = os.listdir(largecell_valid_file_path)\n",
        "\n",
        "normal_test_image_list = os.listdir(normal_test_file_path)\n",
        "normal_train_image_list = os.listdir(normal_train_file_path)\n",
        "normal_valid_image_list = os.listdir(normal_valid_file_path)\n",
        "\n",
        "squamous_test_image_list = os.listdir(squamous_test_file_path)\n",
        "squamous_train_image_list = os.listdir(squamous_train_file_path)\n",
        "squamous_valid_image_list = os.listdir(squamous_valid_file_path)"
      ],
      "metadata": {
        "id": "DKhkrhqbbHO-"
      },
      "execution_count": 82,
      "outputs": []
    },
    {
      "cell_type": "markdown",
      "source": [
        "각 이미지 파일에 경로 추가 작업"
      ],
      "metadata": {
        "id": "iqfpuhqZ1XbL"
      }
    },
    {
      "cell_type": "code",
      "source": [
        "adenocarcinoma_test_image_path_list = []\n",
        "for i in adenocarcinoma_test_image_list:\n",
        "  adenocarcinoma_test_image_path_list.append(adenocarcinoma_test_file_path + '/' + i)\n"
      ],
      "metadata": {
        "id": "1MRlYxInyP-Z"
      },
      "execution_count": 83,
      "outputs": []
    },
    {
      "cell_type": "markdown",
      "source": [
        "두 작업의 함수화, 아래부터 코드 시작"
      ],
      "metadata": {
        "id": "nW74alja4UeS"
      }
    },
    {
      "cell_type": "code",
      "source": [
        "def image_processing(file_path):\n",
        "  image_name_list = os.listdir(file_path)\n",
        "  image_path_list = []\n",
        "  for i in image_name_list:\n",
        "    image_path_list.append(file_path + '/' + i)\n",
        "  \n",
        "  image_list = []\n",
        "  for j in image_path_list:\n",
        "    image_list.append(cv2.imread(j, cv2.IMREAD_COLOR))\n",
        "  \n",
        "  return image_list"
      ],
      "metadata": {
        "id": "CCMa_ji_4TaP"
      },
      "execution_count": 100,
      "outputs": []
    },
    {
      "cell_type": "code",
      "source": [
        "adenocarcinoma_test_image_list = image_processing('/content/drive/MyDrive/Data/test/adenocarcinoma')\n",
        "adenocarcinoma_train_image_list = image_processing('/content/drive/MyDrive/Data/train/adenocarcinoma_left.lower.lobe_T2_N0_M0_Ib')\n",
        "adenocarcinoma_valid_image_list = image_processing('/content/drive/MyDrive/Data/valid/adenocarcinoma_left.lower.lobe_T2_N0_M0_Ib')\n",
        "\n",
        "largecell_test_image_list = image_processing('/content/drive/MyDrive/Data/test/large.cell.carcinoma')\n",
        "largecell_train_image_list = image_processing('/content/drive/MyDrive/Data/train/large.cell.carcinoma_left.hilum_T2_N2_M0_IIIa')\n",
        "largecell_valid_image_list = image_processing('/content/drive/MyDrive/Data/valid/large.cell.carcinoma_left.hilum_T2_N2_M0_IIIa')\n",
        "\n",
        "normal_test_image_list = image_processing('/content/drive/MyDrive/Data/test/normal')\n",
        "normal_train_image_list = image_processing('/content/drive/MyDrive/Data/train/normal')\n",
        "normal_valid_image_list = image_processing('/content/drive/MyDrive/Data/valid/normal')\n",
        "\n",
        "squamous_test_image_list = image_processing('/content/drive/MyDrive/Data/test/squamous.cell.carcinoma')\n",
        "squamous_train_image_list = image_processing('/content/drive/MyDrive/Data/train/squamous.cell.carcinoma_left.hilum_T1_N2_M0_IIIa')\n",
        "squamous_valid_image_list = image_processing('/content/drive/MyDrive/Data/valid/squamous.cell.carcinoma_left.hilum_T1_N2_M0_IIIa')"
      ],
      "metadata": {
        "colab": {
          "base_uri": "https://localhost:8080/"
        },
        "id": "uEr6lXkl0N5b",
        "outputId": "26e4e4a3-4670-4a14-f7e9-106a77c1037b"
      },
      "execution_count": 103,
      "outputs": [
        {
          "output_type": "stream",
          "name": "stdout",
          "text": [
            "120\n",
            "195\n",
            "23\n",
            "51\n",
            "115\n",
            "21\n",
            "54\n",
            "148\n",
            "13\n",
            "90\n",
            "155\n",
            "15\n"
          ]
        }
      ]
    },
    {
      "cell_type": "code",
      "source": [
        "adenocarcinoma_test_image_list[0].shape"
      ],
      "metadata": {
        "colab": {
          "base_uri": "https://localhost:8080/"
        },
        "id": "7Un1To1Vhfh9",
        "outputId": "abcd29e4-7b5a-4e11-db3a-8beced6c6d96"
      },
      "execution_count": 106,
      "outputs": [
        {
          "output_type": "execute_result",
          "data": {
            "text/plain": [
              "(309, 481, 3)"
            ]
          },
          "metadata": {},
          "execution_count": 106
        }
      ]
    },
    {
      "cell_type": "code",
      "source": [
        "for i in range(0,5):\n",
        "  print(adenocarcinoma_test_image_list[i].shape)"
      ],
      "metadata": {
        "colab": {
          "base_uri": "https://localhost:8080/"
        },
        "id": "eZ6-EvrTPmp9",
        "outputId": "b91a6745-eaaa-4dad-f897-dc60d79ae6e4"
      },
      "execution_count": 107,
      "outputs": [
        {
          "output_type": "stream",
          "name": "stdout",
          "text": [
            "(309, 481, 3)\n",
            "(337, 498, 3)\n",
            "(350, 450, 3)\n",
            "(332, 468, 3)\n",
            "(284, 416, 3)\n"
          ]
        }
      ]
    },
    {
      "cell_type": "code",
      "source": [],
      "metadata": {
        "id": "y6dSO32bQDvH"
      },
      "execution_count": null,
      "outputs": []
    }
  ]
}